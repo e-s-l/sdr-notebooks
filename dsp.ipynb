{
 "cells": [
  {
   "cell_type": "markdown",
   "id": "cbea404a-7a2b-4cea-bef3-46ab4d560225",
   "metadata": {},
   "source": [
    "# dsp\n",
    "\n",
    "These notes will...\n",
    "\n",
    "Cut from the sdr notes the more general theory, and include here."
   ]
  },
  {
   "cell_type": "code",
   "execution_count": null,
   "id": "c9b4f0f9-a1bb-4402-91d8-b6dcea9bca78",
   "metadata": {},
   "outputs": [],
   "source": []
  }
 ],
 "metadata": {
  "kernelspec": {
   "display_name": "Python 3 (ipykernel)",
   "language": "python",
   "name": "python3"
  },
  "language_info": {
   "codemirror_mode": {
    "name": "ipython",
    "version": 3
   },
   "file_extension": ".py",
   "mimetype": "text/x-python",
   "name": "python",
   "nbconvert_exporter": "python",
   "pygments_lexer": "ipython3",
   "version": "3.11.2"
  }
 },
 "nbformat": 4,
 "nbformat_minor": 5
}
