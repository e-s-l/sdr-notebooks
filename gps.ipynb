{
 "cells": [
  {
   "cell_type": "markdown",
   "id": "e51da7e8-9862-4dcd-9ac2-0b9d01f92e8b",
   "metadata": {},
   "source": [
    "# GPS\n",
    "\n",
    "## Intro\n",
    "\n",
    "These notes follow along with the youtube series demonstrating how to build your own software gps receiver, found here https://www.youtube.com/watch?v=i7JPjgHa7_A&list=PLmlXFuUXRl5BnKM9PM_tT9uIzlwUxGzLb&index=2\n",
    "\n",
    "Some supplmentrary resources are:\n",
    "- https://www.youtube.com/watch?v=s-jFprdDcM4\n",
    "\n",
    "See also the following books:\n",
    "- *A Software-Defined GPS and Galileo Receiver: A Single-Frequency Approach*, K. Borro, *et al*\n",
    "- *Global Positioning System*, Per Enge, *et al.*\n",
    "\n",
    "************\n",
    "\n",
    "\n",
    "The plan is to expand the notes we already have on software-defined radio, learn some more relevant python, and maybe even put together a version of the software GPS receiver developed in the series.\n",
    "\n",
    "\n",
    "************\n"
   ]
  },
  {
   "cell_type": "markdown",
   "id": "3e73b2f7-af23-4346-bfbf-58a44c567f7f",
   "metadata": {},
   "source": [
    "## The Course Acquistition (C/A) (Navigation) Signal\n",
    "\n",
    "Called 'Course Acquisition' since for civilian usage and not 'Precision' (*ie* military).\n",
    "\n",
    "The navigation signal is a 50 bit/s signal containing the encoded satellite position and on-board clock time modulated onto the carrier band (*eg* L1 at about 1.5GHz, &c).\n",
    "\n",
    "The amplitude of the carrier wave of satellite $i$ at time $t$ will be denoted by $f_i(t)$.\n",
    "\n",
    "The navigation signal bit at time $t$ for satellite $i$ will be denoted $D_i(t)$.\n",
    "\n",
    "Phase (the horizontal positon of the carrier wave) modulation is used to carry the navigation signal via **binary phase shift keying**.\n"
   ]
  },
  {
   "cell_type": "markdown",
   "id": "a618245f-27fd-49eb-9c4f-28e03dccb804",
   "metadata": {},
   "source": [
    "## Binary Phase Shift Keying\n",
    "\n",
    "Here we phase modulate and encode binary data by flipping the amplitude (180 phase shifts) to segements of the signal.\n",
    "\n",
    "A 0 is no change, and 1 is a amplitude flip, so the binary data *eg* $(0,1)$ may be represented as $(1,-1) f_i(t)$. \n",
    "\n",
    "This mapping is known as **polar non-return to zero encoding** and will we denote via hats, *eg* $\\hat{D}_i(t)$."
   ]
  },
  {
   "cell_type": "code",
   "execution_count": 15,
   "id": "2fbe4127-2f4e-44b3-8e4b-846fc3fc3f3f",
   "metadata": {},
   "outputs": [
    {
     "data": {
      "application/vnd.jupyter.widget-view+json": {
       "model_id": "17a13d4b433a43f9903d53bf69f7fccd",
       "version_major": 2,
       "version_minor": 0
      },
      "text/plain": [
       "interactive(children=(ToggleButton(value=True, description='0'), ToggleButton(value=True, description='0'), To…"
      ]
     },
     "metadata": {},
     "output_type": "display_data"
    },
    {
     "data": {
      "text/plain": [
       "<function __main__.plot_bpsk(b0, b1, b2, b3, show_lines, show_grid)>"
      ]
     },
     "execution_count": 15,
     "metadata": {},
     "output_type": "execute_result"
    }
   ],
   "source": [
    "# an example of 4 bps 180-degree bpsk\n",
    "\n",
    "import numpy as np\n",
    "import matplotlib.pyplot as plt\n",
    "import ipywidgets as widgets\n",
    "\n",
    "### parameters\n",
    "\n",
    "carrier_freq = 5        # [Hz]\n",
    "duration = 1.0          # [seconds]\n",
    "num_bits = 4            # [bps]\n",
    "samples_per_bit = 250   # mock digitisation\n",
    "\n",
    "\"\"\"\n",
    "FIXME\n",
    "\n",
    "- the number of bits isn't a realy paramter since 4 are passed to plot_bpsk and the widgets.interact\n",
    "- this re-plots the entire thing with any change to the toggles... this is a bad approach\n",
    "\n",
    "\"\"\"\n",
    "\n",
    "t = np.linspace(0, duration, num_bits * samples_per_bit, endpoint=False)\n",
    "\n",
    "### ui\n",
    "\n",
    "# bit flips\n",
    "\n",
    "bit_toggles = [widgets.ToggleButton(value=True, description='0') for _ in range(num_bits)]\n",
    "\n",
    "def update_toggle_description(change):\n",
    "    change.owner.description = '0' if change.new else '1'\n",
    "\n",
    "for toggle in bit_toggles:\n",
    "    toggle.observe(update_toggle_description, names='value')\n",
    "\n",
    "# annontations (guide line)\n",
    "\n",
    "show_lines_checkbox = widgets.Checkbox(value=True, description='Show Lines')\n",
    "show_grid_checkbox = widgets.Checkbox(value=True, description='Show Grid')\n",
    "\n",
    "### plot signal\n",
    "\n",
    "def plot_bpsk(b0, b1, b2, b3, show_lines, show_grid):\n",
    "    \n",
    "    bits = [b0, b1, b2, b3]\n",
    "    signal = np.array([])\n",
    "\n",
    "    for i, bit in enumerate(bits):\n",
    "        t_bit = np.linspace(i * duration / num_bits, (i + 1) * duration / num_bits, samples_per_bit, endpoint=False)\n",
    "        phase = 0 if bit else np.pi\n",
    "        wave = np.sin(2 * np.pi * carrier_freq * t_bit + phase)\n",
    "        signal = np.concatenate((signal, wave))\n",
    "\n",
    "    \n",
    "    plt.plot(t, signal, label=f'{carrier_freq} Hz Carrier')\n",
    "    \n",
    "    # plot break for each bit\n",
    "    if show_lines:\n",
    "        for i in range(1, num_bits):\n",
    "            plt.axvline(i * duration / num_bits, color='gray', linestyle='--')\n",
    "        \n",
    "    # annotate\n",
    "    plt.title('BPSK example')\n",
    "    plt.xlabel('Time (s)')\n",
    "    plt.ylabel('Amplitude')\n",
    "    \n",
    "    if show_grid:\n",
    "        plt.grid(True)\n",
    "    \n",
    "    plt.show()\n",
    "\n",
    "\n",
    "widgets.interact(\n",
    "    plot_bpsk,\n",
    "    b0=bit_toggles[0],\n",
    "    b1=bit_toggles[1],\n",
    "    b2=bit_toggles[2],\n",
    "    b3=bit_toggles[3],\n",
    "    show_lines=show_lines_checkbox,\n",
    "    show_grid=show_grid_checkbox\n",
    ")"
   ]
  },
  {
   "cell_type": "markdown",
   "id": "eb1df6fc-f971-42e9-9b4f-637982808051",
   "metadata": {},
   "source": [
    "## Code Division Multiple Access (CDMA)\n",
    "\n",
    "This process implements **psuedo-random noise** codes, in order to distinguish between satellites all broadcasting on the same band.\n",
    "\n",
    "The PRN is unique to each satellite, and repeats at about once a millisecond (PRN datarate = 1.023 bps).\n",
    "\n",
    "The PRN is mixed with the navigation signal via exclusive or (XOR) and the result is modulated onto the carrier wave via bpsk.\n",
    "\n",
    "Polar non-return to zero encoding of the XOR is equivalent to multiplication.\n",
    "\n",
    "Hence, the modulated signal may be represented $\\hat{D}_i(t) \\hat{PRN}_i(t) f_i(t)$.\n",
    "\n",
    "#### PRN properties\n",
    "\n",
    "- strong positive autocorrelation spike at 0 and near 0 elsewhere.\n",
    "- the cross-correlation of any 2 PRNS is always near 0.\n",
    "\n",
    "### Summary\n",
    "\n",
    "So given these properties, when we receive on one band mutliple GPS signals (along with some noise), we can:\n",
    "\n",
    "- calculate the correlation with a copy of one of these satellites PRN codes\n",
    "- play with some integrals\n",
    "- use the fact that the navigation message has a much slower data-rate than the PRN\n",
    "-  align the known PRN code with the recieved\n",
    "\n",
    "and eventually arrive at a linear expression from which we can detemine the navigation signal by recording over several periods of the PRN, boosting the SNR. \n",
    "\n"
   ]
  },
  {
   "cell_type": "markdown",
   "id": "6c76b82d-e38e-4a65-82b6-9933c7401db6",
   "metadata": {},
   "source": [
    "## GPS Antennas\n",
    "\n",
    "- hemispherical reception pattern (for almost all sky coverage)\n",
    "- if active include amplifier (~28db is common)\n",
    "- tuned to specific bands (*eg* L1)\n",
    "  "
   ]
  },
  {
   "cell_type": "markdown",
   "id": "561069ce-a970-4c45-ae9b-4c6be1f1d310",
   "metadata": {},
   "source": [
    "## SDR set-up\n",
    "\n",
    "- Centre frequency of L1 band: $f_{l1} = 1575.42 [MHz]$\n",
    "- Bandwidth: for reasons yet to be understood, $BW = 2(PRN datarate) = 2.046 [MHz]$\n",
    "- Sampling Rate: Nyquist Theorem...\n",
    "\n",
    "  ```\n",
    "  the signal can be determined from its samples if the sampling rate is greater than twice the maximum frequency contained in the signal\n",
    "  ```\n",
    "\n",
    "In our case, $f_{max} = f + (BW)/2$, so $f_s ~ 3.2 [GHz]$, buutttt max sampling rate of the rtl-sdr is closer to 3 Mhz... some internal heterodyning and clever aliasing to the rescue.\n",
    "\n",
    "### Aliasing\n",
    "\n",
    "and **Bandpass undersampling**...\n",
    "  \n",
    "TODO\n",
    "\n",
    "For reasons (\n",
    "\n",
    "- alias has effective carrier at 1/770\n",
    "- no overlapping\n",
    "- ...\n",
    ")\n",
    "\n",
    "I am yet to understand, the settled-upon sample rate is $f_s = 2.046 MHz$.\n",
    "\n",
    "\n",
    "## I/Q Values\n",
    "\n",
    "In-phase and Quadrature. Recall:\n",
    "$I(t) = A(t) \\cos( \\phi(t) )$ and  $Q(t) = A(t) \\sin(\\phi(t) )$\n",
    "are the variable amplitudes to the cos and sin components of a representation of the frequency.\n",
    "\n",
    "And hence\n",
    "$\\phi(t) = \\arctan(Q/I)$."
   ]
  },
  {
   "cell_type": "code",
   "execution_count": 27,
   "id": "af2a27fd-3a3c-42b2-a627-b56a969a46b5",
   "metadata": {},
   "outputs": [
    {
     "data": {
      "application/vnd.jupyter.widget-view+json": {
       "model_id": "514c3bc5f4ab45d0b3da86a020c45ac7",
       "version_major": 2,
       "version_minor": 0
      },
      "text/plain": [
       "interactive(children=(FloatSlider(value=1.0, description='I:', max=2.0, min=-2.0, step=0.01), FloatSlider(valu…"
      ]
     },
     "metadata": {},
     "output_type": "display_data"
    },
    {
     "data": {
      "text/plain": [
       "<function __main__.update_plots(i, q)>"
      ]
     },
     "execution_count": 27,
     "metadata": {},
     "output_type": "execute_result"
    }
   ],
   "source": [
    "import numpy as np\n",
    "import matplotlib.pyplot as plt\n",
    "import ipywidgets as widgets\n",
    "\n",
    "### parameters\n",
    "\n",
    "carrier_freq = 5        # [Hz]\n",
    "duration = 1.0          # [seconds]\n",
    "samples = 1000          # per second\n",
    "t = np.linspace(0, duration, samples, endpoint=False)\n",
    "iq_point = {'i': 1.0, 'q': 0.0}\n",
    "\n",
    "\n",
    "def update_plots(i, q):\n",
    "    iq_point['i'] = i\n",
    "    iq_point['q'] = q\n",
    "\n",
    "    print(f\"(I, Q) = ({i},{q}), phi = {np.arctan(q / i)}\")\n",
    "\n",
    "    i_wave = i * np.cos(2 * np.pi * carrier_freq * t)\n",
    "    q_wave = q * np.sin(2 * np.pi * carrier_freq * t)\n",
    "    total = i_wave + q_wave\n",
    "\n",
    "    fig, axs = plt.subplots(2, 1, figsize=(10, 8))\n",
    "    plt.subplots_adjust(hspace=0.4)\n",
    "\n",
    "    ### constellation\n",
    "    \n",
    "    axs[0].axhline(0, color='gray', lw=0.5)\n",
    "    axs[0].axvline(0, color='gray', lw=0.5)\n",
    "    axs[0].plot(iq_point['i'], iq_point['q'], 'ro')\n",
    "    axs[0].set_xlim(-2, 2)\n",
    "    axs[0].set_ylim(-2, 2)\n",
    "    axs[0].set_aspect('equal')\n",
    "    axs[0].set_xlabel('I')\n",
    "    axs[0].set_ylabel('Q')\n",
    "\n",
    "    ### signal\n",
    "    \n",
    "    axs[1].plot(t, i_wave, label='I')\n",
    "    axs[1].plot(t, q_wave, label='Q')\n",
    "    axs[1].plot(t, total, label='I + Q')\n",
    "\n",
    "    axs[1].legend(loc=\"lower right\")\n",
    "    axs[1].set_xlabel('Time')\n",
    "    axs[1].set_ylabel('Amplitude')\n",
    "\n",
    "    axs[1].grid(True)\n",
    "\n",
    "    plt.show()\n",
    "\n",
    "### sliders\n",
    "\n",
    "i_slider = widgets.FloatSlider(value=iq_point['i'], min=-2.0, max=2.0, step=0.01, description='I:')\n",
    "q_slider = widgets.FloatSlider(value=iq_point['q'], min=-2.0, max=2.0, step=0.01, description='Q:')\n",
    "\n",
    "widgets.interact(update_plots, \n",
    "                 i=i_slider, \n",
    "                 q=q_slider)\n"
   ]
  },
  {
   "cell_type": "markdown",
   "id": "62050f52-8b87-4e94-b04a-4a9e5ecc3648",
   "metadata": {},
   "source": []
  },
  {
   "cell_type": "markdown",
   "id": "20c147de-6161-4d4e-be6d-bd051666623a",
   "metadata": {},
   "source": [
    "## More on I/Q sampling\n",
    "\n",
    "Now, suppose the sampling frequency is $f_1$ and the frequency to be sampled is $f_2$, then we may say $f_2 = f_1 + \\Delta f$ where $\\Delta f$ some difference between them. The recieved signal (simply approximated) is then \n",
    "$$\n",
    "s(t) = A \\cos(2 \\pi f_2(t))\n",
    "     = A \\cos(2 \\pi (f_1(t) + \\Delta f(t))\n",
    "     = A \\cos(2 \\pi f_1(t)) + 2 \\pi \\Delta f(t))\n",
    "$$\n",
    "*ie* the signal has the frequency of the sampling frequency plus a time-dependent phase term $phi(t) = 2 \\pi \\Delta f(t)$, which we recall is equivalent to a rotation in the I-Q plane.\n",
    "\n",
    "That is the I-Q samples are rotated by the carrier wave's phase. This is better understood by a complex representation of the samples $I + jQ$.\n",
    "\n",
    "- We will need a bit more info here..."
   ]
  },
  {
   "cell_type": "markdown",
   "id": "5ec9a0e3-c9c2-43a6-9516-698fe17abc96",
   "metadata": {},
   "source": [
    "## The Acquisition Stage\n",
    "\n",
    "- For good coorelation and strong signal strength of the navigation message, the known PRN must be phase matched to the incoming.\n",
    "\n",
    "### Carrier Frequency shift\n",
    "  \n",
    "- Signals from GPS will be effected by Doppler shifts, so we do not know the received frquency band exactly.\n",
    "\n",
    "\n",
    "### Carrier Wipe Off\n",
    "\n",
    "## Parameter Space\n",
    "\n",
    "### Non-coherent integration\n",
    "\n",
    "### Summary\n",
    "\n",
    "Must determine:\n",
    "1. the phase of the PRN code,\n",
    "2. the frequency shift of the carrier wave\n",
    "\n",
    "This is done by brute force: trying possible values till the strongest navigation signal is seen.\n",
    "\n",
    "The presence of asatellite si determined by whether the signal is above a threshold. \n",
    "\n",
    "\n"
   ]
  },
  {
   "cell_type": "markdown",
   "id": "a929632d-2dab-48ed-8283-913774d7adf1",
   "metadata": {},
   "source": [
    "## The Tracking Stage\n",
    "\n",
    "During reception, after acquisition, it is important to keep track off:\n",
    "1. the frequency of the carrier wave\n",
    "2. the phase of the carrier wave\n",
    "3. the phase of the PRN code\n"
   ]
  }
 ],
 "metadata": {
  "kernelspec": {
   "display_name": "Python 3 (ipykernel)",
   "language": "python",
   "name": "python3"
  },
  "language_info": {
   "codemirror_mode": {
    "name": "ipython",
    "version": 3
   },
   "file_extension": ".py",
   "mimetype": "text/x-python",
   "name": "python",
   "nbconvert_exporter": "python",
   "pygments_lexer": "ipython3",
   "version": "3.11.2"
  }
 },
 "nbformat": 4,
 "nbformat_minor": 5
}
