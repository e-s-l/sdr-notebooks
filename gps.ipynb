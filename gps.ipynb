{
 "cells": [
  {
   "cell_type": "markdown",
   "id": "e51da7e8-9862-4dcd-9ac2-0b9d01f92e8b",
   "metadata": {},
   "source": [
    "# gps\n",
    "\n",
    "these notes follow along with the youtube series demonstrating how to build your own software, gps receiver, found here\n",
    "\n",
    "https://www.youtube.com/watch?v=i7JPjgHa7_A&list=PLmlXFuUXRl5BnKM9PM_tT9uIzlwUxGzLb&index=2\n",
    "\n"
   ]
  },
  {
   "cell_type": "code",
   "execution_count": null,
   "id": "b5c3c6a7-d2bf-414e-81da-9dd97720bcdb",
   "metadata": {},
   "outputs": [],
   "source": []
  }
 ],
 "metadata": {
  "kernelspec": {
   "display_name": "Python 3 (ipykernel)",
   "language": "python",
   "name": "python3"
  },
  "language_info": {
   "codemirror_mode": {
    "name": "ipython",
    "version": 3
   },
   "file_extension": ".py",
   "mimetype": "text/x-python",
   "name": "python",
   "nbconvert_exporter": "python",
   "pygments_lexer": "ipython3",
   "version": "3.11.2"
  }
 },
 "nbformat": 4,
 "nbformat_minor": 5
}
