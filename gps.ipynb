{
 "cells": [
  {
   "cell_type": "markdown",
   "id": "e51da7e8-9862-4dcd-9ac2-0b9d01f92e8b",
   "metadata": {},
   "source": [
    "# GPS\n",
    "\n",
    "## intro\n",
    "\n",
    "These notes follow along with the youtube series demonstrating how to build your own software gps receiver, found here https://www.youtube.com/watch?v=i7JPjgHa7_A&list=PLmlXFuUXRl5BnKM9PM_tT9uIzlwUxGzLb&index=2\n",
    "\n",
    "The plan is to expand the notes we already have on software-defined radio, learn some more relevant python, and maybe even put together a version of the software GPS receiver developed in the series.\n"
   ]
  },
  {
   "cell_type": "markdown",
   "id": "3e73b2f7-af23-4346-bfbf-58a44c567f7f",
   "metadata": {},
   "source": [
    "## the course acquistition (CA) navigation signal\n",
    "\n",
    "The navigation signal is a 50 bit/s signal containing the encoded satellite position and on-board clock time modulated onto the carrier band (*eg* L1 at about 1.5GHz, &c).\n",
    "\n",
    "The amplitude of the carrier wave of satellite `i` at time `t` will be denoted by `f_i(t)`.\n",
    "\n",
    "The navigation signal bit at time `t` for satellite `i` will be denoted `D_i(t)`\n",
    "\n",
    "Phase (the horizontal positon of the carrier wave) modulation is used to carry the navigation signal via **binary phase shift keying**.\n"
   ]
  },
  {
   "cell_type": "code",
   "execution_count": 36,
   "id": "2fbe4127-2f4e-44b3-8e4b-846fc3fc3f3f",
   "metadata": {},
   "outputs": [
    {
     "data": {
      "application/vnd.jupyter.widget-view+json": {
       "model_id": "a41bcef55a6c466f87f2d6a5bee42502",
       "version_major": 2,
       "version_minor": 0
      },
      "text/plain": [
       "interactive(children=(ToggleButton(value=True, description='0'), ToggleButton(value=True, description='0'), To…"
      ]
     },
     "metadata": {},
     "output_type": "display_data"
    },
    {
     "data": {
      "text/plain": [
       "<function __main__.plot_bpsk(b0, b1, b2, b3, show_lines, show_grid)>"
      ]
     },
     "execution_count": 36,
     "metadata": {},
     "output_type": "execute_result"
    }
   ],
   "source": [
    "# an example of 4 bps 180-degree bpsk\n",
    "\n",
    "import numpy as np\n",
    "import matplotlib.pyplot as plt\n",
    "\n",
    "### parameters\n",
    "\n",
    "carrier_freq = 5    # [Hz]\n",
    "duration = 1.0      # [seconds]\n",
    "num_bits = 4        # [bps]\n",
    "samples_per_bit = 250\n",
    "\n",
    "t = np.linspace(0, duration, num_bits * samples_per_bit, endpoint=False)\n",
    "\n",
    "### ui\n",
    "\n",
    "# bit flips\n",
    "\n",
    "bit_toggles = [widgets.ToggleButton(value=True, description='0') for _ in range(num_bits)]\n",
    "\n",
    "def update_toggle_description(change):\n",
    "    change.owner.description = '0' if change.new else '1'\n",
    "\n",
    "for toggle in bit_toggles:\n",
    "    toggle.observe(update_toggle_description, names='value')\n",
    "\n",
    "# annontations (guide line)\n",
    "\n",
    "show_lines_checkbox = widgets.Checkbox(value=True, description='Show Lines')\n",
    "show_grid_checkbox = widgets.Checkbox(value=True, description='Show Grid')\n",
    "\n",
    "### plot signal\n",
    "\n",
    "def plot_bpsk(b0, b1, b2, b3, show_lines, show_grid):\n",
    "    \n",
    "    bits = [b0, b1, b2, b3]\n",
    "    signal = np.array([])\n",
    "\n",
    "    for i, bit in enumerate(bits):\n",
    "        t_bit = np.linspace(i * duration / num_bits, (i + 1) * duration / num_bits, samples_per_bit, endpoint=False)\n",
    "        phase = 0 if bit else np.pi\n",
    "        wave = np.sin(2 * np.pi * carrier_freq * t_bit + phase)\n",
    "        signal = np.concatenate((signal, wave))\n",
    "\n",
    "    \n",
    "    plt.plot(t, signal, label=f'{carrier_freq} Hz Carrier')\n",
    "    \n",
    "    # plot break for each bit\n",
    "    if show_lines:\n",
    "        for i in range(1, num_bits):\n",
    "            plt.axvline(i * duration / num_bits, color='gray', linestyle='--')\n",
    "        \n",
    "    # annotate\n",
    "    plt.title('BPSK example')\n",
    "    plt.xlabel('Time (s)')\n",
    "    plt.ylabel('Amplitude')\n",
    "    \n",
    "    if show_grid:\n",
    "        plt.grid(True)\n",
    "    \n",
    "    plt.show()\n",
    "\n",
    "\n",
    "widgets.interact(\n",
    "    plot_bpsk,\n",
    "    b0=bit_toggles[0],\n",
    "    b1=bit_toggles[1],\n",
    "    b2=bit_toggles[2],\n",
    "    b3=bit_toggles[3],\n",
    "    show_lines=show_lines_checkbox,\n",
    "    show_grid=show_grid_checkbox\n",
    ")"
   ]
  },
  {
   "cell_type": "markdown",
   "id": "eb1df6fc-f971-42e9-9b4f-637982808051",
   "metadata": {},
   "source": []
  }
 ],
 "metadata": {
  "kernelspec": {
   "display_name": "Python 3 (ipykernel)",
   "language": "python",
   "name": "python3"
  },
  "language_info": {
   "codemirror_mode": {
    "name": "ipython",
    "version": 3
   },
   "file_extension": ".py",
   "mimetype": "text/x-python",
   "name": "python",
   "nbconvert_exporter": "python",
   "pygments_lexer": "ipython3",
   "version": "3.11.2"
  }
 },
 "nbformat": 4,
 "nbformat_minor": 5
}
